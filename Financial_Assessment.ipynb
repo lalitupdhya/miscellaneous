{
 "cells": [
  {
   "cell_type": "markdown",
   "metadata": {},
   "source": [
    "- profit for each month\n",
    "- profit after tax for each month (the tax rate is 30%)\n",
    "- profit margin for each month - equals to profit a after tax divided by revenue\n",
    "- good months - where the profit after tax was greater than the mean for the year\n",
    "- bad months - where the profit after tax was less than the mean for the year\n",
    "- the best month - where the profit after tax was max for the year\n",
    "- the worst month - where the profit after tax was min for the year"
   ]
  },
  {
   "cell_type": "code",
   "execution_count": 336,
   "metadata": {},
   "outputs": [],
   "source": [
    "import pandas as pd"
   ]
  },
  {
   "cell_type": "code",
   "execution_count": 337,
   "metadata": {},
   "outputs": [],
   "source": [
    "months = ['Jan','Feb','Mar','Apr','May','June','July','Aug','Sep','Oct','Nov','Dec']"
   ]
  },
  {
   "cell_type": "code",
   "execution_count": 338,
   "metadata": {},
   "outputs": [],
   "source": [
    "df = pd.DataFrame(data = months,columns=['Months'])"
   ]
  },
  {
   "cell_type": "code",
   "execution_count": 339,
   "metadata": {},
   "outputs": [],
   "source": [
    "Revenue = [14574.49, 7606.46, 8611.41, 9175.41, 8058.65, 8105.44, 11496.28, 9766.09, 10305.32, 14379.96, 10713.97, 15433.50]"
   ]
  },
  {
   "cell_type": "code",
   "execution_count": 340,
   "metadata": {},
   "outputs": [
    {
     "data": {
      "text/plain": [
       "[14574.49,\n",
       " 7606.46,\n",
       " 8611.41,\n",
       " 9175.41,\n",
       " 8058.65,\n",
       " 8105.44,\n",
       " 11496.28,\n",
       " 9766.09,\n",
       " 10305.32,\n",
       " 14379.96,\n",
       " 10713.97,\n",
       " 15433.5]"
      ]
     },
     "execution_count": 340,
     "metadata": {},
     "output_type": "execute_result"
    }
   ],
   "source": [
    "Revenue"
   ]
  },
  {
   "cell_type": "code",
   "execution_count": 341,
   "metadata": {},
   "outputs": [],
   "source": [
    "Exp = [12051.82, 5695.07, 12319.20, 12089.72, 8658.57, 840.20, 3285.73, 5821.12, 6976.93, 16618.61, 10054.37, 3803.96]"
   ]
  },
  {
   "cell_type": "code",
   "execution_count": 342,
   "metadata": {},
   "outputs": [
    {
     "data": {
      "text/plain": [
       "[12051.82,\n",
       " 5695.07,\n",
       " 12319.2,\n",
       " 12089.72,\n",
       " 8658.57,\n",
       " 840.2,\n",
       " 3285.73,\n",
       " 5821.12,\n",
       " 6976.93,\n",
       " 16618.61,\n",
       " 10054.37,\n",
       " 3803.96]"
      ]
     },
     "execution_count": 342,
     "metadata": {},
     "output_type": "execute_result"
    }
   ],
   "source": [
    "Exp"
   ]
  },
  {
   "cell_type": "code",
   "execution_count": 343,
   "metadata": {},
   "outputs": [],
   "source": [
    "df['Revenue'] = Revenue\n",
    "df['Exp'] = Exp"
   ]
  },
  {
   "cell_type": "code",
   "execution_count": 344,
   "metadata": {},
   "outputs": [
    {
     "data": {
      "text/html": [
       "<div>\n",
       "<style scoped>\n",
       "    .dataframe tbody tr th:only-of-type {\n",
       "        vertical-align: middle;\n",
       "    }\n",
       "\n",
       "    .dataframe tbody tr th {\n",
       "        vertical-align: top;\n",
       "    }\n",
       "\n",
       "    .dataframe thead th {\n",
       "        text-align: right;\n",
       "    }\n",
       "</style>\n",
       "<table border=\"1\" class=\"dataframe\">\n",
       "  <thead>\n",
       "    <tr style=\"text-align: right;\">\n",
       "      <th></th>\n",
       "      <th>Months</th>\n",
       "      <th>Revenue</th>\n",
       "      <th>Exp</th>\n",
       "    </tr>\n",
       "  </thead>\n",
       "  <tbody>\n",
       "    <tr>\n",
       "      <th>0</th>\n",
       "      <td>Jan</td>\n",
       "      <td>14574.49</td>\n",
       "      <td>12051.82</td>\n",
       "    </tr>\n",
       "    <tr>\n",
       "      <th>1</th>\n",
       "      <td>Feb</td>\n",
       "      <td>7606.46</td>\n",
       "      <td>5695.07</td>\n",
       "    </tr>\n",
       "    <tr>\n",
       "      <th>2</th>\n",
       "      <td>Mar</td>\n",
       "      <td>8611.41</td>\n",
       "      <td>12319.20</td>\n",
       "    </tr>\n",
       "    <tr>\n",
       "      <th>3</th>\n",
       "      <td>Apr</td>\n",
       "      <td>9175.41</td>\n",
       "      <td>12089.72</td>\n",
       "    </tr>\n",
       "    <tr>\n",
       "      <th>4</th>\n",
       "      <td>May</td>\n",
       "      <td>8058.65</td>\n",
       "      <td>8658.57</td>\n",
       "    </tr>\n",
       "    <tr>\n",
       "      <th>5</th>\n",
       "      <td>June</td>\n",
       "      <td>8105.44</td>\n",
       "      <td>840.20</td>\n",
       "    </tr>\n",
       "    <tr>\n",
       "      <th>6</th>\n",
       "      <td>July</td>\n",
       "      <td>11496.28</td>\n",
       "      <td>3285.73</td>\n",
       "    </tr>\n",
       "    <tr>\n",
       "      <th>7</th>\n",
       "      <td>Aug</td>\n",
       "      <td>9766.09</td>\n",
       "      <td>5821.12</td>\n",
       "    </tr>\n",
       "    <tr>\n",
       "      <th>8</th>\n",
       "      <td>Sep</td>\n",
       "      <td>10305.32</td>\n",
       "      <td>6976.93</td>\n",
       "    </tr>\n",
       "    <tr>\n",
       "      <th>9</th>\n",
       "      <td>Oct</td>\n",
       "      <td>14379.96</td>\n",
       "      <td>16618.61</td>\n",
       "    </tr>\n",
       "    <tr>\n",
       "      <th>10</th>\n",
       "      <td>Nov</td>\n",
       "      <td>10713.97</td>\n",
       "      <td>10054.37</td>\n",
       "    </tr>\n",
       "    <tr>\n",
       "      <th>11</th>\n",
       "      <td>Dec</td>\n",
       "      <td>15433.50</td>\n",
       "      <td>3803.96</td>\n",
       "    </tr>\n",
       "  </tbody>\n",
       "</table>\n",
       "</div>"
      ],
      "text/plain": [
       "   Months   Revenue       Exp\n",
       "0     Jan  14574.49  12051.82\n",
       "1     Feb   7606.46   5695.07\n",
       "2     Mar   8611.41  12319.20\n",
       "3     Apr   9175.41  12089.72\n",
       "4     May   8058.65   8658.57\n",
       "5    June   8105.44    840.20\n",
       "6    July  11496.28   3285.73\n",
       "7     Aug   9766.09   5821.12\n",
       "8     Sep  10305.32   6976.93\n",
       "9     Oct  14379.96  16618.61\n",
       "10    Nov  10713.97  10054.37\n",
       "11    Dec  15433.50   3803.96"
      ]
     },
     "execution_count": 344,
     "metadata": {},
     "output_type": "execute_result"
    }
   ],
   "source": [
    "df"
   ]
  },
  {
   "cell_type": "code",
   "execution_count": 347,
   "metadata": {},
   "outputs": [],
   "source": [
    "profit = []\n",
    "for k in zip(Revenue,Exp):\n",
    "    sub = k[0] - k[1]\n",
    "    profit.append(round(sub,2))"
   ]
  },
  {
   "cell_type": "code",
   "execution_count": 348,
   "metadata": {},
   "outputs": [
    {
     "data": {
      "text/plain": [
       "[2522.67,\n",
       " 1911.39,\n",
       " -3707.79,\n",
       " -2914.31,\n",
       " -599.92,\n",
       " 7265.24,\n",
       " 8210.55,\n",
       " 3944.97,\n",
       " 3328.39,\n",
       " -2238.65,\n",
       " 659.6,\n",
       " 11629.54]"
      ]
     },
     "execution_count": 348,
     "metadata": {},
     "output_type": "execute_result"
    }
   ],
   "source": [
    "profit"
   ]
  },
  {
   "cell_type": "code",
   "execution_count": 349,
   "metadata": {},
   "outputs": [],
   "source": [
    "profit_after_tax = [round(0.7*k,2) for k in profit]\n",
    "profit_margin = [round((k[0]/k[1])*100) for k in zip(profit_after_tax,Revenue)]"
   ]
  },
  {
   "cell_type": "code",
   "execution_count": 350,
   "metadata": {},
   "outputs": [
    {
     "data": {
      "text/plain": [
       "[12, 18, -30, -22, -5, 63, 50, 28, 23, -11, 4, 53]"
      ]
     },
     "execution_count": 350,
     "metadata": {},
     "output_type": "execute_result"
    }
   ],
   "source": [
    "profit_margin"
   ]
  },
  {
   "cell_type": "code",
   "execution_count": 351,
   "metadata": {},
   "outputs": [],
   "source": [
    "df['Profit after Tax'] = profit_after_tax"
   ]
  },
  {
   "cell_type": "code",
   "execution_count": 352,
   "metadata": {},
   "outputs": [],
   "source": [
    "df['Profit Margin'] = profit_margin"
   ]
  },
  {
   "cell_type": "code",
   "execution_count": 353,
   "metadata": {},
   "outputs": [],
   "source": [
    "df['Profit'] = profit"
   ]
  },
  {
   "cell_type": "code",
   "execution_count": 356,
   "metadata": {},
   "outputs": [],
   "source": [
    "add = 0\n",
    "for k in profit_after_tax:\n",
    "    add += k\n",
    "\n",
    "mean = round(add/len(profit_after_tax),2) "
   ]
  },
  {
   "cell_type": "code",
   "execution_count": 357,
   "metadata": {},
   "outputs": [
    {
     "data": {
      "text/plain": [
       "1750.68"
      ]
     },
     "execution_count": 357,
     "metadata": {},
     "output_type": "execute_result"
    }
   ],
   "source": [
    "mean"
   ]
  },
  {
   "cell_type": "code",
   "execution_count": 358,
   "metadata": {},
   "outputs": [
    {
     "data": {
      "text/html": [
       "<div>\n",
       "<style scoped>\n",
       "    .dataframe tbody tr th:only-of-type {\n",
       "        vertical-align: middle;\n",
       "    }\n",
       "\n",
       "    .dataframe tbody tr th {\n",
       "        vertical-align: top;\n",
       "    }\n",
       "\n",
       "    .dataframe thead th {\n",
       "        text-align: right;\n",
       "    }\n",
       "</style>\n",
       "<table border=\"1\" class=\"dataframe\">\n",
       "  <thead>\n",
       "    <tr style=\"text-align: right;\">\n",
       "      <th></th>\n",
       "      <th>Months</th>\n",
       "      <th>Revenue</th>\n",
       "      <th>Exp</th>\n",
       "      <th>Profit after Tax</th>\n",
       "      <th>Profit Margin</th>\n",
       "      <th>Profit</th>\n",
       "    </tr>\n",
       "  </thead>\n",
       "  <tbody>\n",
       "    <tr>\n",
       "      <th>0</th>\n",
       "      <td>Jan</td>\n",
       "      <td>14574.49</td>\n",
       "      <td>12051.82</td>\n",
       "      <td>1765.87</td>\n",
       "      <td>12</td>\n",
       "      <td>2522.67</td>\n",
       "    </tr>\n",
       "    <tr>\n",
       "      <th>1</th>\n",
       "      <td>Feb</td>\n",
       "      <td>7606.46</td>\n",
       "      <td>5695.07</td>\n",
       "      <td>1337.97</td>\n",
       "      <td>18</td>\n",
       "      <td>1911.39</td>\n",
       "    </tr>\n",
       "    <tr>\n",
       "      <th>2</th>\n",
       "      <td>Mar</td>\n",
       "      <td>8611.41</td>\n",
       "      <td>12319.20</td>\n",
       "      <td>-2595.45</td>\n",
       "      <td>-30</td>\n",
       "      <td>-3707.79</td>\n",
       "    </tr>\n",
       "    <tr>\n",
       "      <th>3</th>\n",
       "      <td>Apr</td>\n",
       "      <td>9175.41</td>\n",
       "      <td>12089.72</td>\n",
       "      <td>-2040.02</td>\n",
       "      <td>-22</td>\n",
       "      <td>-2914.31</td>\n",
       "    </tr>\n",
       "    <tr>\n",
       "      <th>4</th>\n",
       "      <td>May</td>\n",
       "      <td>8058.65</td>\n",
       "      <td>8658.57</td>\n",
       "      <td>-419.94</td>\n",
       "      <td>-5</td>\n",
       "      <td>-599.92</td>\n",
       "    </tr>\n",
       "    <tr>\n",
       "      <th>5</th>\n",
       "      <td>June</td>\n",
       "      <td>8105.44</td>\n",
       "      <td>840.20</td>\n",
       "      <td>5085.67</td>\n",
       "      <td>63</td>\n",
       "      <td>7265.24</td>\n",
       "    </tr>\n",
       "    <tr>\n",
       "      <th>6</th>\n",
       "      <td>July</td>\n",
       "      <td>11496.28</td>\n",
       "      <td>3285.73</td>\n",
       "      <td>5747.38</td>\n",
       "      <td>50</td>\n",
       "      <td>8210.55</td>\n",
       "    </tr>\n",
       "    <tr>\n",
       "      <th>7</th>\n",
       "      <td>Aug</td>\n",
       "      <td>9766.09</td>\n",
       "      <td>5821.12</td>\n",
       "      <td>2761.48</td>\n",
       "      <td>28</td>\n",
       "      <td>3944.97</td>\n",
       "    </tr>\n",
       "    <tr>\n",
       "      <th>8</th>\n",
       "      <td>Sep</td>\n",
       "      <td>10305.32</td>\n",
       "      <td>6976.93</td>\n",
       "      <td>2329.87</td>\n",
       "      <td>23</td>\n",
       "      <td>3328.39</td>\n",
       "    </tr>\n",
       "    <tr>\n",
       "      <th>9</th>\n",
       "      <td>Oct</td>\n",
       "      <td>14379.96</td>\n",
       "      <td>16618.61</td>\n",
       "      <td>-1567.06</td>\n",
       "      <td>-11</td>\n",
       "      <td>-2238.65</td>\n",
       "    </tr>\n",
       "    <tr>\n",
       "      <th>10</th>\n",
       "      <td>Nov</td>\n",
       "      <td>10713.97</td>\n",
       "      <td>10054.37</td>\n",
       "      <td>461.72</td>\n",
       "      <td>4</td>\n",
       "      <td>659.60</td>\n",
       "    </tr>\n",
       "    <tr>\n",
       "      <th>11</th>\n",
       "      <td>Dec</td>\n",
       "      <td>15433.50</td>\n",
       "      <td>3803.96</td>\n",
       "      <td>8140.68</td>\n",
       "      <td>53</td>\n",
       "      <td>11629.54</td>\n",
       "    </tr>\n",
       "  </tbody>\n",
       "</table>\n",
       "</div>"
      ],
      "text/plain": [
       "   Months   Revenue       Exp  Profit after Tax  Profit Margin    Profit\n",
       "0     Jan  14574.49  12051.82           1765.87             12   2522.67\n",
       "1     Feb   7606.46   5695.07           1337.97             18   1911.39\n",
       "2     Mar   8611.41  12319.20          -2595.45            -30  -3707.79\n",
       "3     Apr   9175.41  12089.72          -2040.02            -22  -2914.31\n",
       "4     May   8058.65   8658.57           -419.94             -5   -599.92\n",
       "5    June   8105.44    840.20           5085.67             63   7265.24\n",
       "6    July  11496.28   3285.73           5747.38             50   8210.55\n",
       "7     Aug   9766.09   5821.12           2761.48             28   3944.97\n",
       "8     Sep  10305.32   6976.93           2329.87             23   3328.39\n",
       "9     Oct  14379.96  16618.61          -1567.06            -11  -2238.65\n",
       "10    Nov  10713.97  10054.37            461.72              4    659.60\n",
       "11    Dec  15433.50   3803.96           8140.68             53  11629.54"
      ]
     },
     "execution_count": 358,
     "metadata": {},
     "output_type": "execute_result"
    }
   ],
   "source": [
    "df"
   ]
  },
  {
   "cell_type": "code",
   "execution_count": 359,
   "metadata": {},
   "outputs": [],
   "source": [
    "good_months = df[df['Profit after Tax']>mean]\n",
    "bad_months = df[df['Profit after Tax']<mean]"
   ]
  },
  {
   "cell_type": "code",
   "execution_count": 360,
   "metadata": {},
   "outputs": [
    {
     "data": {
      "text/html": [
       "<div>\n",
       "<style scoped>\n",
       "    .dataframe tbody tr th:only-of-type {\n",
       "        vertical-align: middle;\n",
       "    }\n",
       "\n",
       "    .dataframe tbody tr th {\n",
       "        vertical-align: top;\n",
       "    }\n",
       "\n",
       "    .dataframe thead th {\n",
       "        text-align: right;\n",
       "    }\n",
       "</style>\n",
       "<table border=\"1\" class=\"dataframe\">\n",
       "  <thead>\n",
       "    <tr style=\"text-align: right;\">\n",
       "      <th></th>\n",
       "      <th>Months</th>\n",
       "      <th>Revenue</th>\n",
       "      <th>Exp</th>\n",
       "      <th>Profit after Tax</th>\n",
       "      <th>Profit Margin</th>\n",
       "      <th>Profit</th>\n",
       "    </tr>\n",
       "  </thead>\n",
       "  <tbody>\n",
       "    <tr>\n",
       "      <th>0</th>\n",
       "      <td>Jan</td>\n",
       "      <td>14574.49</td>\n",
       "      <td>12051.82</td>\n",
       "      <td>1765.87</td>\n",
       "      <td>12</td>\n",
       "      <td>2522.67</td>\n",
       "    </tr>\n",
       "    <tr>\n",
       "      <th>5</th>\n",
       "      <td>June</td>\n",
       "      <td>8105.44</td>\n",
       "      <td>840.20</td>\n",
       "      <td>5085.67</td>\n",
       "      <td>63</td>\n",
       "      <td>7265.24</td>\n",
       "    </tr>\n",
       "    <tr>\n",
       "      <th>6</th>\n",
       "      <td>July</td>\n",
       "      <td>11496.28</td>\n",
       "      <td>3285.73</td>\n",
       "      <td>5747.38</td>\n",
       "      <td>50</td>\n",
       "      <td>8210.55</td>\n",
       "    </tr>\n",
       "    <tr>\n",
       "      <th>7</th>\n",
       "      <td>Aug</td>\n",
       "      <td>9766.09</td>\n",
       "      <td>5821.12</td>\n",
       "      <td>2761.48</td>\n",
       "      <td>28</td>\n",
       "      <td>3944.97</td>\n",
       "    </tr>\n",
       "    <tr>\n",
       "      <th>8</th>\n",
       "      <td>Sep</td>\n",
       "      <td>10305.32</td>\n",
       "      <td>6976.93</td>\n",
       "      <td>2329.87</td>\n",
       "      <td>23</td>\n",
       "      <td>3328.39</td>\n",
       "    </tr>\n",
       "    <tr>\n",
       "      <th>11</th>\n",
       "      <td>Dec</td>\n",
       "      <td>15433.50</td>\n",
       "      <td>3803.96</td>\n",
       "      <td>8140.68</td>\n",
       "      <td>53</td>\n",
       "      <td>11629.54</td>\n",
       "    </tr>\n",
       "  </tbody>\n",
       "</table>\n",
       "</div>"
      ],
      "text/plain": [
       "   Months   Revenue       Exp  Profit after Tax  Profit Margin    Profit\n",
       "0     Jan  14574.49  12051.82           1765.87             12   2522.67\n",
       "5    June   8105.44    840.20           5085.67             63   7265.24\n",
       "6    July  11496.28   3285.73           5747.38             50   8210.55\n",
       "7     Aug   9766.09   5821.12           2761.48             28   3944.97\n",
       "8     Sep  10305.32   6976.93           2329.87             23   3328.39\n",
       "11    Dec  15433.50   3803.96           8140.68             53  11629.54"
      ]
     },
     "execution_count": 360,
     "metadata": {},
     "output_type": "execute_result"
    }
   ],
   "source": [
    "good_months"
   ]
  },
  {
   "cell_type": "code",
   "execution_count": 361,
   "metadata": {},
   "outputs": [
    {
     "data": {
      "text/html": [
       "<div>\n",
       "<style scoped>\n",
       "    .dataframe tbody tr th:only-of-type {\n",
       "        vertical-align: middle;\n",
       "    }\n",
       "\n",
       "    .dataframe tbody tr th {\n",
       "        vertical-align: top;\n",
       "    }\n",
       "\n",
       "    .dataframe thead th {\n",
       "        text-align: right;\n",
       "    }\n",
       "</style>\n",
       "<table border=\"1\" class=\"dataframe\">\n",
       "  <thead>\n",
       "    <tr style=\"text-align: right;\">\n",
       "      <th></th>\n",
       "      <th>Months</th>\n",
       "      <th>Revenue</th>\n",
       "      <th>Exp</th>\n",
       "      <th>Profit after Tax</th>\n",
       "      <th>Profit Margin</th>\n",
       "      <th>Profit</th>\n",
       "    </tr>\n",
       "  </thead>\n",
       "  <tbody>\n",
       "    <tr>\n",
       "      <th>1</th>\n",
       "      <td>Feb</td>\n",
       "      <td>7606.46</td>\n",
       "      <td>5695.07</td>\n",
       "      <td>1337.97</td>\n",
       "      <td>18</td>\n",
       "      <td>1911.39</td>\n",
       "    </tr>\n",
       "    <tr>\n",
       "      <th>2</th>\n",
       "      <td>Mar</td>\n",
       "      <td>8611.41</td>\n",
       "      <td>12319.20</td>\n",
       "      <td>-2595.45</td>\n",
       "      <td>-30</td>\n",
       "      <td>-3707.79</td>\n",
       "    </tr>\n",
       "    <tr>\n",
       "      <th>3</th>\n",
       "      <td>Apr</td>\n",
       "      <td>9175.41</td>\n",
       "      <td>12089.72</td>\n",
       "      <td>-2040.02</td>\n",
       "      <td>-22</td>\n",
       "      <td>-2914.31</td>\n",
       "    </tr>\n",
       "    <tr>\n",
       "      <th>4</th>\n",
       "      <td>May</td>\n",
       "      <td>8058.65</td>\n",
       "      <td>8658.57</td>\n",
       "      <td>-419.94</td>\n",
       "      <td>-5</td>\n",
       "      <td>-599.92</td>\n",
       "    </tr>\n",
       "    <tr>\n",
       "      <th>9</th>\n",
       "      <td>Oct</td>\n",
       "      <td>14379.96</td>\n",
       "      <td>16618.61</td>\n",
       "      <td>-1567.06</td>\n",
       "      <td>-11</td>\n",
       "      <td>-2238.65</td>\n",
       "    </tr>\n",
       "    <tr>\n",
       "      <th>10</th>\n",
       "      <td>Nov</td>\n",
       "      <td>10713.97</td>\n",
       "      <td>10054.37</td>\n",
       "      <td>461.72</td>\n",
       "      <td>4</td>\n",
       "      <td>659.60</td>\n",
       "    </tr>\n",
       "  </tbody>\n",
       "</table>\n",
       "</div>"
      ],
      "text/plain": [
       "   Months   Revenue       Exp  Profit after Tax  Profit Margin   Profit\n",
       "1     Feb   7606.46   5695.07           1337.97             18  1911.39\n",
       "2     Mar   8611.41  12319.20          -2595.45            -30 -3707.79\n",
       "3     Apr   9175.41  12089.72          -2040.02            -22 -2914.31\n",
       "4     May   8058.65   8658.57           -419.94             -5  -599.92\n",
       "9     Oct  14379.96  16618.61          -1567.06            -11 -2238.65\n",
       "10    Nov  10713.97  10054.37            461.72              4   659.60"
      ]
     },
     "execution_count": 361,
     "metadata": {},
     "output_type": "execute_result"
    }
   ],
   "source": [
    "bad_months"
   ]
  },
  {
   "cell_type": "code",
   "execution_count": 362,
   "metadata": {},
   "outputs": [],
   "source": [
    "worst_month = df[df['Profit after Tax']==min(df['Profit after Tax'])]"
   ]
  },
  {
   "cell_type": "code",
   "execution_count": 363,
   "metadata": {},
   "outputs": [
    {
     "data": {
      "text/html": [
       "<div>\n",
       "<style scoped>\n",
       "    .dataframe tbody tr th:only-of-type {\n",
       "        vertical-align: middle;\n",
       "    }\n",
       "\n",
       "    .dataframe tbody tr th {\n",
       "        vertical-align: top;\n",
       "    }\n",
       "\n",
       "    .dataframe thead th {\n",
       "        text-align: right;\n",
       "    }\n",
       "</style>\n",
       "<table border=\"1\" class=\"dataframe\">\n",
       "  <thead>\n",
       "    <tr style=\"text-align: right;\">\n",
       "      <th></th>\n",
       "      <th>Months</th>\n",
       "      <th>Revenue</th>\n",
       "      <th>Exp</th>\n",
       "      <th>Profit after Tax</th>\n",
       "      <th>Profit Margin</th>\n",
       "      <th>Profit</th>\n",
       "    </tr>\n",
       "  </thead>\n",
       "  <tbody>\n",
       "    <tr>\n",
       "      <th>2</th>\n",
       "      <td>Mar</td>\n",
       "      <td>8611.41</td>\n",
       "      <td>12319.2</td>\n",
       "      <td>-2595.45</td>\n",
       "      <td>-30</td>\n",
       "      <td>-3707.79</td>\n",
       "    </tr>\n",
       "  </tbody>\n",
       "</table>\n",
       "</div>"
      ],
      "text/plain": [
       "  Months  Revenue      Exp  Profit after Tax  Profit Margin   Profit\n",
       "2    Mar  8611.41  12319.2          -2595.45            -30 -3707.79"
      ]
     },
     "execution_count": 363,
     "metadata": {},
     "output_type": "execute_result"
    }
   ],
   "source": [
    "worst_month"
   ]
  },
  {
   "cell_type": "code",
   "execution_count": 364,
   "metadata": {},
   "outputs": [],
   "source": [
    "best_month = df[df['Profit after Tax']==max(df['Profit after Tax'])]"
   ]
  },
  {
   "cell_type": "code",
   "execution_count": 365,
   "metadata": {},
   "outputs": [
    {
     "data": {
      "text/html": [
       "<div>\n",
       "<style scoped>\n",
       "    .dataframe tbody tr th:only-of-type {\n",
       "        vertical-align: middle;\n",
       "    }\n",
       "\n",
       "    .dataframe tbody tr th {\n",
       "        vertical-align: top;\n",
       "    }\n",
       "\n",
       "    .dataframe thead th {\n",
       "        text-align: right;\n",
       "    }\n",
       "</style>\n",
       "<table border=\"1\" class=\"dataframe\">\n",
       "  <thead>\n",
       "    <tr style=\"text-align: right;\">\n",
       "      <th></th>\n",
       "      <th>Months</th>\n",
       "      <th>Revenue</th>\n",
       "      <th>Exp</th>\n",
       "      <th>Profit after Tax</th>\n",
       "      <th>Profit Margin</th>\n",
       "      <th>Profit</th>\n",
       "    </tr>\n",
       "  </thead>\n",
       "  <tbody>\n",
       "    <tr>\n",
       "      <th>11</th>\n",
       "      <td>Dec</td>\n",
       "      <td>15433.5</td>\n",
       "      <td>3803.96</td>\n",
       "      <td>8140.68</td>\n",
       "      <td>53</td>\n",
       "      <td>11629.54</td>\n",
       "    </tr>\n",
       "  </tbody>\n",
       "</table>\n",
       "</div>"
      ],
      "text/plain": [
       "   Months  Revenue      Exp  Profit after Tax  Profit Margin    Profit\n",
       "11    Dec  15433.5  3803.96           8140.68             53  11629.54"
      ]
     },
     "execution_count": 365,
     "metadata": {},
     "output_type": "execute_result"
    }
   ],
   "source": [
    "best_month"
   ]
  },
  {
   "cell_type": "code",
   "execution_count": null,
   "metadata": {},
   "outputs": [],
   "source": []
  }
 ],
 "metadata": {
  "kernelspec": {
   "display_name": "Python 3",
   "language": "python",
   "name": "python3"
  },
  "language_info": {
   "codemirror_mode": {
    "name": "ipython",
    "version": 3
   },
   "file_extension": ".py",
   "mimetype": "text/x-python",
   "name": "python",
   "nbconvert_exporter": "python",
   "pygments_lexer": "ipython3",
   "version": "3.7.3"
  }
 },
 "nbformat": 4,
 "nbformat_minor": 2
}
